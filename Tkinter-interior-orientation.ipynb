{
 "cells": [
  {
   "cell_type": "code",
   "execution_count": 28,
   "metadata": {},
   "outputs": [],
   "source": [
    "def funcao():\n",
    "    print (e1.get())"
   ]
  },
  {
   "cell_type": "code",
   "execution_count": 49,
   "metadata": {},
   "outputs": [],
   "source": [
    "from tkinter import *\n",
    "\n",
    "window_width  = 650 #900\n",
    "window_height = 500 #500\n",
    "\n",
    "root = Tk()\n",
    "root.title(\"Fotogrametria - 2019: Rogério do Carmo\")\n",
    "#root.minsize(width=300, height=600)\n",
    "root.minsize(width=window_width, height=window_height)\n",
    "root.resizable(False, False)\n",
    "\n",
    "label1 = Label(root,text=\"Orientacao Interior\")\n",
    "label1.grid(row=0,column=0,padx=10, pady=10,columnspan=5)\n",
    "\n",
    "label2 = Label(root,text=\"Nº de linhas:\")\n",
    "label2.grid(row=1,column=0)\n",
    "e1 = Entry(root)\n",
    "e1.grid(row=1,column=1)\n",
    "\n",
    "labelp = Label(root,text=\"Tamanho do pixel:\")\n",
    "labelp.grid(row=1,column=2)\n",
    "e4 = Entry(root)\n",
    "e4.grid(row=1,column=3)\n",
    "\n",
    "label3 = Label(root,text=\"Nº de colunas:\")\n",
    "label3.grid(row=2,column=0)\n",
    "e2 = Entry(root)\n",
    "e2.grid(row=2,column=1)\n",
    "\n",
    "labelf = Label(root,text=\"Distância Focal\")\n",
    "labelf.grid(row=2,column=2)\n",
    "ef = Entry(root)\n",
    "ef.grid(row=2,column=3)\n",
    "\n",
    "\n",
    "blackbutton = Button(root, borderwidth=5, text=\"Executar\", fg=\"black\", cursor=\"hand2\", command=funcao)\n",
    "blackbutton.grid(padx=25,pady=25)\n",
    "\n",
    "screen_width = root.winfo_screenwidth()\n",
    "screen_height = root.winfo_screenheight()\n",
    "x_cordinate = int((screen_width/2) - (window_width/2))\n",
    "y_cordinate = int((screen_height/2) - (window_height/2))\n",
    "\n",
    "root.geometry(\"{}x{}+{}+{}\".format(window_width, window_height, x_cordinate, y_cordinate))\n",
    "root.mainloop()"
   ]
  },
  {
   "cell_type": "markdown",
   "metadata": {},
   "source": [
    "x0 = -0.0008; // EM MILIMETROS\n",
    "y0 = -0.0022; // EM MILIMETROS\n",
    "// parâmetrosdas distorçoes das lentes 9\n",
    "k1 = -3.37355E-07;\n",
    "k2 = -1.01373E-09;\n",
    "k3 = 1.06346E-12;\n",
    "P1 = 2.73359E-07;\n",
    "P2 = 4.18904E-07;\n",
    "(LER ESSES VALORES)\n",
    "//distorcoes radias e descentradas"
   ]
  },
  {
   "cell_type": "code",
   "execution_count": null,
   "metadata": {},
   "outputs": [],
   "source": []
  }
 ],
 "metadata": {
  "kernelspec": {
   "display_name": "Python 3",
   "language": "python",
   "name": "python3"
  },
  "language_info": {
   "codemirror_mode": {
    "name": "ipython",
    "version": 3
   },
   "file_extension": ".py",
   "mimetype": "text/x-python",
   "name": "python",
   "nbconvert_exporter": "python",
   "pygments_lexer": "ipython3",
   "version": "3.7.0"
  },
  "varInspector": {
   "cols": {
    "lenName": 16,
    "lenType": 16,
    "lenVar": 40
   },
   "kernels_config": {
    "python": {
     "delete_cmd_postfix": "",
     "delete_cmd_prefix": "del ",
     "library": "var_list.py",
     "varRefreshCmd": "print(var_dic_list())"
    },
    "r": {
     "delete_cmd_postfix": ") ",
     "delete_cmd_prefix": "rm(",
     "library": "var_list.r",
     "varRefreshCmd": "cat(var_dic_list()) "
    }
   },
   "oldHeight": 404,
   "position": {
    "height": "426px",
    "left": "1003px",
    "right": "20px",
    "top": "73px",
    "width": "355px"
   },
   "types_to_exclude": [
    "module",
    "function",
    "builtin_function_or_method",
    "instance",
    "_Feature"
   ],
   "varInspector_section_display": "block",
   "window_display": false
  }
 },
 "nbformat": 4,
 "nbformat_minor": 2
}
